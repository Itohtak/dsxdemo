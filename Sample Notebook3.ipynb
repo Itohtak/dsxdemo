{
    "nbformat_minor": 1, 
    "cells": [
        {
            "execution_count": 1, 
            "cell_type": "code", 
            "metadata": {}, 
            "outputs": [
                {
                    "execution_count": 1, 
                    "metadata": {}, 
                    "data": {
                        "text/html": "<div>\n<style scoped>\n    .dataframe tbody tr th:only-of-type {\n        vertical-align: middle;\n    }\n\n    .dataframe tbody tr th {\n        vertical-align: top;\n    }\n\n    .dataframe thead th {\n        text-align: right;\n    }\n</style>\n<table border=\"1\" class=\"dataframe\">\n  <thead>\n    <tr style=\"text-align: right;\">\n      <th></th>\n      <th>Education Level</th>\n      <th>Age</th>\n      <th>Age Range</th>\n      <th>Employment Status</th>\n      <th>Gender</th>\n      <th>Children</th>\n      <th>Weekly Earnings</th>\n      <th>Year</th>\n      <th>Weekly Hours Worked</th>\n      <th>Sleeping</th>\n      <th>...</th>\n      <th>Caring for Children</th>\n      <th>Playing with Children</th>\n      <th>Job Searching</th>\n      <th>Shopping</th>\n      <th>Eating and Drinking</th>\n      <th>Socializing &amp; Relaxing</th>\n      <th>Television</th>\n      <th>Golfing</th>\n      <th>Running</th>\n      <th>Volunteering</th>\n    </tr>\n  </thead>\n  <tbody>\n    <tr>\n      <th>0</th>\n      <td>High School</td>\n      <td>51</td>\n      <td>50-59</td>\n      <td>Unemployed</td>\n      <td>Female</td>\n      <td>0</td>\n      <td>0</td>\n      <td>2005</td>\n      <td>0</td>\n      <td>825</td>\n      <td>...</td>\n      <td>0</td>\n      <td>0</td>\n      <td>0</td>\n      <td>0</td>\n      <td>40</td>\n      <td>180</td>\n      <td>120</td>\n      <td>0</td>\n      <td>0</td>\n      <td>0</td>\n    </tr>\n    <tr>\n      <th>1</th>\n      <td>Bachelor</td>\n      <td>42</td>\n      <td>40-49</td>\n      <td>Employed</td>\n      <td>Female</td>\n      <td>2</td>\n      <td>1480</td>\n      <td>2005</td>\n      <td>40</td>\n      <td>500</td>\n      <td>...</td>\n      <td>365</td>\n      <td>20</td>\n      <td>0</td>\n      <td>120</td>\n      <td>40</td>\n      <td>15</td>\n      <td>15</td>\n      <td>0</td>\n      <td>0</td>\n      <td>0</td>\n    </tr>\n    <tr>\n      <th>2</th>\n      <td>Master</td>\n      <td>47</td>\n      <td>40-49</td>\n      <td>Employed</td>\n      <td>Male</td>\n      <td>0</td>\n      <td>904</td>\n      <td>2005</td>\n      <td>40</td>\n      <td>480</td>\n      <td>...</td>\n      <td>0</td>\n      <td>0</td>\n      <td>0</td>\n      <td>15</td>\n      <td>85</td>\n      <td>214</td>\n      <td>199</td>\n      <td>0</td>\n      <td>0</td>\n      <td>0</td>\n    </tr>\n    <tr>\n      <th>3</th>\n      <td>Some College</td>\n      <td>21</td>\n      <td>20-29</td>\n      <td>Employed</td>\n      <td>Female</td>\n      <td>0</td>\n      <td>320</td>\n      <td>2005</td>\n      <td>40</td>\n      <td>705</td>\n      <td>...</td>\n      <td>0</td>\n      <td>0</td>\n      <td>0</td>\n      <td>105</td>\n      <td>30</td>\n      <td>240</td>\n      <td>240</td>\n      <td>0</td>\n      <td>0</td>\n      <td>0</td>\n    </tr>\n    <tr>\n      <th>4</th>\n      <td>High School</td>\n      <td>49</td>\n      <td>40-49</td>\n      <td>Not in labor force</td>\n      <td>Female</td>\n      <td>0</td>\n      <td>0</td>\n      <td>2005</td>\n      <td>0</td>\n      <td>470</td>\n      <td>...</td>\n      <td>0</td>\n      <td>0</td>\n      <td>0</td>\n      <td>0</td>\n      <td>35</td>\n      <td>600</td>\n      <td>40</td>\n      <td>0</td>\n      <td>0</td>\n      <td>0</td>\n    </tr>\n  </tbody>\n</table>\n<p>5 rows \u00d7 23 columns</p>\n</div>", 
                        "text/plain": "  Education Level  Age Age Range   Employment Status  Gender  Children  \\\n0     High School   51     50-59          Unemployed  Female         0   \n1        Bachelor   42     40-49            Employed  Female         2   \n2          Master   47     40-49            Employed    Male         0   \n3    Some College   21     20-29            Employed  Female         0   \n4     High School   49     40-49  Not in labor force  Female         0   \n\n   Weekly Earnings  Year  Weekly Hours Worked  Sleeping      ...       \\\n0                0  2005                    0       825      ...        \n1             1480  2005                   40       500      ...        \n2              904  2005                   40       480      ...        \n3              320  2005                   40       705      ...        \n4                0  2005                    0       470      ...        \n\n   Caring for Children  Playing with Children  Job Searching  Shopping  \\\n0                    0                      0              0         0   \n1                  365                     20              0       120   \n2                    0                      0              0        15   \n3                    0                      0              0       105   \n4                    0                      0              0         0   \n\n   Eating and Drinking  Socializing & Relaxing  Television  Golfing  Running  \\\n0                   40                     180         120        0        0   \n1                   40                      15          15        0        0   \n2                   85                     214         199        0        0   \n3                   30                     240         240        0        0   \n4                   35                     600          40        0        0   \n\n   Volunteering  \n0             0  \n1             0  \n2             0  \n3             0  \n4             0  \n\n[5 rows x 23 columns]"
                    }, 
                    "output_type": "execute_result"
                }
            ], 
            "source": "# The code was removed by DSX for sharing."
        }, 
        {
            "execution_count": null, 
            "cell_type": "code", 
            "metadata": {}, 
            "outputs": [], 
            "source": ""
        }
    ], 
    "metadata": {
        "kernelspec": {
            "display_name": "Python 3.5 with Spark 2.1", 
            "name": "python3-spark21", 
            "language": "python"
        }, 
        "language_info": {
            "mimetype": "text/x-python", 
            "nbconvert_exporter": "python", 
            "version": "3.5.4", 
            "name": "python", 
            "file_extension": ".py", 
            "pygments_lexer": "ipython3", 
            "codemirror_mode": {
                "version": 3, 
                "name": "ipython"
            }
        }
    }, 
    "nbformat": 4
}